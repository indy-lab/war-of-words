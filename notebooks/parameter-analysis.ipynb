{
 "cells": [
  {
   "cell_type": "markdown",
   "metadata": {},
   "source": [
    "# War of Words: Parameter Analysis\n",
    "\n",
    "Display the table of top-3 and and bottom-3 dossiers according to the intertia parameter. Obtain the value of the rapporteur advantage feature."
   ]
  },
  {
   "cell_type": "code",
   "execution_count": 1,
   "metadata": {},
   "outputs": [],
   "source": [
    "import json\n",
    "import numpy as np\n",
    "\n",
    "from warofwords import TrainedWarOfWords\n",
    "\n",
    "LEG = 8  # Legislature."
   ]
  },
  {
   "cell_type": "markdown",
   "metadata": {},
   "source": [
    "## Load data and model"
   ]
  },
  {
   "cell_type": "code",
   "execution_count": 2,
   "metadata": {},
   "outputs": [],
   "source": [
    "# Conflicts.\n",
    "with open(f'../data/raw/war-of-words-ep{LEG}.txt') as f:\n",
    "    conflicts = [json.loads(l) for l in f.readlines()]\n",
    "    \n",
    "# Extract edits.\n",
    "edits = [edit for datum in conflicts for edit in datum]\n",
    "\n",
    "# Features and model data.\n",
    "path = f'../data/processed/rapadv-ep{LEG}.pkl'\n",
    "features, featmats, _ = TrainedWarOfWords.load_data(path)\n",
    "\n",
    "# Model.\n",
    "path = f'../models/rapadv-ep{LEG}.fit'\n",
    "model = TrainedWarOfWords.load(path)\n",
    "\n",
    "# Parameters.\n",
    "params = model._params"
   ]
  },
  {
   "cell_type": "markdown",
   "metadata": {},
   "source": [
    "## Display top-3 and bottom-3 dossiers"
   ]
  },
  {
   "cell_type": "code",
   "execution_count": 3,
   "metadata": {},
   "outputs": [],
   "source": [
    "def get_dossiers(features, params, which, n=5):\n",
    "    \"\"\"Get top (which='top') or bottom (which='bottom') dossiers.\"\"\"\n",
    "    doss = features.get_group('dossier')\n",
    "    vals = params[doss]\n",
    "    rev = which == 'top'\n",
    "    ranking = sorted(zip(doss, vals), key=lambda k: k[1], reverse=rev)[:n]\n",
    "    return [(features.get_name(d), v) for d, v in ranking]\n",
    "\n",
    "\n",
    "def get_num_nodes(dossier, edits):\n",
    "    cnt = 0\n",
    "    for datum in edits:\n",
    "        if datum['dossier_ref'] == dossier:\n",
    "            cnt += 1\n",
    "    return cnt\n",
    "\n",
    "\n",
    "def get_num_cliques(dossier, conflicts):\n",
    "    cnt = 0\n",
    "    for data in conflicts:\n",
    "        if data[0]['dossier_ref'] == dossier:\n",
    "            if len(data) > 1:\n",
    "                cnt += 1\n",
    "    return cnt\n",
    "\n",
    "\n",
    "def get_average_clique_size(dossier, conflicts):\n",
    "    sizes = list()\n",
    "    for data in conflicts:\n",
    "        if data[0]['dossier_ref'] == dossier:\n",
    "            if len(data) > 1:\n",
    "                sizes.append(len(data))\n",
    "    if len(sizes) == 0:\n",
    "        return 0\n",
    "    return np.mean(sizes)\n",
    "\n",
    "def get_proportion_accepted(dossier, edits):\n",
    "    acc = list()\n",
    "    for datum in edits:\n",
    "        if datum['dossier_ref'] == dossier:\n",
    "            acc.append(datum['accepted'])\n",
    "    return np.mean(acc)\n",
    "\n",
    "\n",
    "def display_table(ranking, edits, conflicts):\n",
    "    for doss, val in ranking:\n",
    "        string = list()\n",
    "        # Value.\n",
    "        string.append(f'{val:.3f}')\n",
    "        # Type.\n",
    "        opinion = 'AD' in doss\n",
    "        typ = 'opinion' if opinion else 'report'\n",
    "        string.append(f'{typ}')\n",
    "        # Dossier ref.\n",
    "        d = doss[8:].replace(')', '-') if typ == 'opinion' else doss[4:]\n",
    "        string.append(d)\n",
    "        # Number of nodes.\n",
    "        n = get_num_nodes(doss, edits)\n",
    "        string.append(f'{n}')\n",
    "        # Number of cliques.\n",
    "        c = get_num_cliques(doss, conflicts)\n",
    "        string.append(f'{c}')\n",
    "        # Average clique size.\n",
    "        a = get_average_clique_size(doss, conflicts)\n",
    "        string.append(f'{a:.1f}')\n",
    "        # Proportion['accepted'].\n",
    "        p = get_proportion_accepted(doss, edits)\n",
    "        string.append(f'{p*100:.1f}')\n",
    "        vals = [f'{string[0]:>6}'] + [f'{s:>13}' for s in string[1:]]\n",
    "        print(''.join(vals))"
   ]
  },
  {
   "cell_type": "markdown",
   "metadata": {},
   "source": [
    "**Note:** This reproduces the results of Table 3 in the paper. I know, the values don't match exactly. I must have made a mistake when reporting them in my write-up. But the dossiers and the order match, the difference is at most 0.004 (for the bottom dossiers).\n",
    "\n",
    "\n",
    "You can browse the Parliament documents to find details about the dossiers for [EP7](https://www.europarl.europa.eu/committees/en/archives/7/document-search) and [EP8](https://www.europarl.europa.eu/committees/en/archives/8/document-search) using the reference numbers in the table below."
   ]
  },
  {
   "cell_type": "code",
   "execution_count": 4,
   "metadata": {},
   "outputs": [
    {
     "name": "stdout",
     "output_type": "stream",
     "text": [
      "   d_i         type      dossier       #nodes     #cliques      cliq sz        % acc\n",
      "------------------------------------------------------------------------------------\n",
      " 3.306       report     198-2018         1040          272          3.1          2.6\n",
      " 3.205       report     245-2018         2657          577          4.3          2.6\n",
      " 3.107       report     213-2016         1292          319          3.4          6.0\n",
      "------------------------------------------------------------------------------------\n",
      "-2.615      opinion  2018-627870           60            1          2.0         90.0\n",
      "-2.646      opinion  2018-622198           69            0          0.0         98.6\n",
      "-2.852      opinion  2018-626670           63            6          2.0         84.1\n"
     ]
    }
   ],
   "source": [
    "# Extract top-3 and bottom-3 ranking.\n",
    "top = get_dossiers(features, params, which='top', n=3)\n",
    "btm = get_dossiers(features, params, which='bottom', n=3)[::-1]\n",
    "\n",
    "# Display table.\n",
    "fields = ['d_i', 'type', 'dossier', '#nodes', '#cliques', 'cliq sz', '% acc']\n",
    "header = ''.join([f'{fields[0]:>6}'] + [f'{s:>13}' for s in fields[1:]])\n",
    "print(header)\n",
    "print('-' * len(header))\n",
    "display_table(top, edits, conflicts)\n",
    "print('-' * len(header))\n",
    "display_table(btm, edits, conflicts)"
   ]
  },
  {
   "cell_type": "markdown",
   "metadata": {},
   "source": [
    "## Rapporteur advantage"
   ]
  },
  {
   "cell_type": "code",
   "execution_count": 5,
   "metadata": {},
   "outputs": [
    {
     "name": "stdout",
     "output_type": "stream",
     "text": [
      "Rapporteur advantage: 1.31\n"
     ]
    }
   ],
   "source": [
    "print(f'Rapporteur advantage: {model.parameters.get_group(\"rapporteur\")[0]:.2f}')"
   ]
  },
  {
   "cell_type": "markdown",
   "metadata": {},
   "source": [
    "Obtain the value for the rapporteur advantage for EP7 by setting `LEG = 7` in the first cell and running the notebook again."
   ]
  }
 ],
 "metadata": {
  "kernelspec": {
   "display_name": "Python 3",
   "language": "python",
   "name": "python3"
  },
  "language_info": {
   "codemirror_mode": {
    "name": "ipython",
    "version": 3
   },
   "file_extension": ".py",
   "mimetype": "text/x-python",
   "name": "python",
   "nbconvert_exporter": "python",
   "pygments_lexer": "ipython3",
   "version": "3.6.3"
  }
 },
 "nbformat": 4,
 "nbformat_minor": 2
}
